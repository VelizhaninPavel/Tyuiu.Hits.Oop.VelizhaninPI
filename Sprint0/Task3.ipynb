{
 "cells": [
  {
   "cell_type": "markdown",
   "metadata": {},
   "source": [
    "<h1 style=\"color:DodgerBlue\">Индивидальный проект</h1>"
   ]
  },
  {
   "cell_type": "markdown",
   "metadata": {},
   "source": [
    "<h2 style=\"color:DodgerBlue\">Название проекта:</h2>\n",
    "\n",
    "----\n",
    "\n",
    "### Вариант задания № 2 \n"
   ]
  },
  {
   "cell_type": "markdown",
   "metadata": {},
   "source": [
    "<h2 style=\"color:DodgerBlue\">Описание проекта:</h2>\n",
    "\n",
    "----\n",
    "\n",
    "Создать базовый класс Student в C#, который будет представлять информацию о студентах. На основе этого класса разработать 2-3 производных класса, демонстрирующих принципы наследования и полиморфизма. В каждом из классов должны быть реализованы новые атрибуты и методы, а также переопределены некоторые методы базового класса для демонстрации полиморфизма. \n",
    "\n",
    "Требования к базовому классу Student: \n",
    "    • Атрибуты: Имя (Name), Возраст (Age), Курс (Course). \n",
    "    • Методы: \n",
    "        o GetInfo(): метод для получения информации о студенте в виде строки. \n",
    "        o Study(): метод для вывода сообщения о том, что студент учится. \n",
    "        o TakeExam(): метод для вывода сообщения о сдаче экзамена. \n",
    "        \n",
    "Требования к производным классам: \n",
    "1. Студент бакалавриата (BachelorStudent): Должен содержать дополнительные атрибуты, такие как Специальность (Specialty). Метод Study() должен быть переопределен для добавления информации о специальности при изучении предмета. \n",
    "2. Студент магистратуры (MasterStudent): Должен содержать дополнительные атрибуты, такие как Научный руководитель (ScientificAdvisor). Метод TakeExam() должен быть переопределен для добавления информации о научном руководителе при сдаче экзамена.\n",
    "3. Аспирант (PhDStudent) (если требуется третий класс): Должен содержать дополнительные атрибуты, такие как Тема диссертации (DissertationTopic). Метод Study() должен быть переопределен для добавления информации о теме диссертации при изучении предмета. \n"
   ]
  },
  {
   "cell_type": "markdown",
   "metadata": {},
   "source": [
    "<h2 style=\"color:DodgerBlue\">Реализация:</h2>\n",
    "\n",
    "----"
   ]
  },
  {
   "cell_type": "code",
   "execution_count": 2,
   "metadata": {
    "dotnet_interactive": {
     "language": "csharp"
    },
    "polyglot_notebook": {
     "kernelName": "csharp"
    }
   },
   "outputs": [
    {
     "name": "stdout",
     "output_type": "stream",
     "text": [
      "Павел учится на курсе 2 по специальности Информационные системы и технологии.\n",
      "Павел сдает экзамен.\n",
      "Имя: Павел, Возраст: 19, Курс: 2\n"
     ]
    }
   ],
   "source": [
    "using System;\n",
    "\n",
    "class Student\n",
    "{\n",
    "    public string Name { get; set; } // атрибуты через геттер сеттер\n",
    "    public int Age { get; set; }\n",
    "    public int Course { get; set; }\n",
    "\n",
    "    public Student(string name, int age, int course) // базовый конструктор\n",
    "    {\n",
    "        Name = name;\n",
    "        Age = age;\n",
    "        Course = course;\n",
    "    }\n",
    "\n",
    "    public virtual string GetInfo() \n",
    "    {\n",
    "        return $\"Имя: {Name}, Возраст: {Age}, Курс: {Course}\";\n",
    "    }\n",
    "\n",
    "    public virtual void Study()\n",
    "    {\n",
    "        Console.WriteLine($\"{Name} учится на курсе {Course}.\");\n",
    "    }\n",
    "\n",
    "    public virtual void TakeExam()\n",
    "    {\n",
    "        Console.WriteLine($\"{Name} сдает экзамен.\");\n",
    "    }\n",
    "}\n",
    "\n",
    "class BachelorStudent : Student\n",
    "{\n",
    "    public string Specialty { get; set; }\n",
    "    \n",
    "    public BachelorStudent(string name, int age, int course, string specialty) : base(name, age, course) \n",
    "    {\n",
    "        Specialty = specialty;\n",
    "    }\n",
    "\n",
    "    // переопределение метода Study()\n",
    "        public override void Study()\n",
    "    {\n",
    "        Console.WriteLine($\"{Name} учится на курсе {Course}. Специальности {Specialty}.\");\n",
    "    }\n",
    "}\n",
    "\n",
    "\n",
    "class MasterStudent : Student\n",
    "{\n",
    "    public string ScientificAdvisor { get; set; }\n",
    "\n",
    "    public MasterStudent(string name, int age, int course, string scientificAdvisor) : base(name, age, course)\n",
    "    {\n",
    "        ScientificAdvisor = scientificAdvisor;\n",
    "    }\n",
    "\n",
    "    // переопределение метода TakeExam()\n",
    "        public override void TakeExam()\n",
    "    {\n",
    "        Console.WriteLine($\"{Name} сдает экзамен. Научный руководитель: {ScientificAdvisor}.\");\n",
    "    }\n",
    " \n",
    "}\n",
    "\n",
    "\n",
    "class PhDStudent : Student\n",
    "{\n",
    "    public string DissertationTopic { get; set; }\n",
    "\n",
    "    public PhDStudent(string name, int age, int course, string dissertationTopic) : base(name, age, course)\n",
    "    {\n",
    "        DissertationTopic = dissertationTopic;\n",
    "    }\n",
    "\n",
    "    // переопределение метода Study()\n",
    "        public override void Study()\n",
    "    {\n",
    "        Console.WriteLine($\"{Name} работает над диссертацией на тему \\\"{DissertationTopic}\\\".\");\n",
    "    }\n",
    "}\n",
    "\n",
    "Student bachelor = new BachelorStudent(\"Павел\", 19, 2, \"Информационные системы и технологии\");\n",
    "bachelor.Study();\n",
    "bachelor.TakeExam();\n",
    "Console.WriteLine(bachelor.GetInfo());"
   ]
  }
 ],
 "metadata": {
  "kernelspec": {
   "display_name": ".NET (C#)",
   "language": "C#",
   "name": ".net-csharp"
  },
  "polyglot_notebook": {
   "kernelInfo": {
    "defaultKernelName": "csharp",
    "items": [
     {
      "aliases": [],
      "languageName": "csharp",
      "name": "csharp"
     }
    ]
   }
  }
 },
 "nbformat": 4,
 "nbformat_minor": 2
}
