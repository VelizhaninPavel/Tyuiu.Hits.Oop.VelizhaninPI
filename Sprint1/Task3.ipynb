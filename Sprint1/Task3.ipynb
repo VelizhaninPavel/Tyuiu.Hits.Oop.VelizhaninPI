{
 "cells": [
  {
   "cell_type": "markdown",
   "metadata": {},
   "source": [
    "<h1 style=\"color:DodgerBlue\">Индивидальный проект</h1>"
   ]
  },
  {
   "cell_type": "markdown",
   "metadata": {},
   "source": [
    "<h2 style=\"color:DodgerBlue\">Название проекта:</h2>\n",
    "\n",
    "----\n",
    "\n",
    "### Вариант задания № 2 \n"
   ]
  },
  {
   "cell_type": "markdown",
   "metadata": {},
   "source": [
    "<h2 style=\"color:DodgerBlue\">Описание проекта:</h2>\n",
    "\n",
    "----\n",
    "\n",
    "Создать базовый класс Student в C#, который будет представлять информацию о студентах. На основе этого класса разработать 2-3 производных класса, демонстрирующих принципы наследования и полиморфизма. В каждом из классов должны быть реализованы новые атрибуты и методы, а также переопределены некоторые методы базового класса для демонстрации полиморфизма. \n",
    "\n",
    "Требования к базовому классу Student: \n",
    "    • Атрибуты: Имя (Name), Возраст (Age), Курс (Course). \n",
    "    • Методы: \n",
    "        o GetInfo(): метод для получения информации о студенте в виде строки. \n",
    "        o Study(): метод для вывода сообщения о том, что студент учится. \n",
    "        o TakeExam(): метод для вывода сообщения о сдаче экзамена. \n",
    "        \n",
    "Требования к производным классам: \n",
    "1. Студент бакалавриата (BachelorStudent): Должен содержать дополнительные атрибуты, такие как Специальность (Specialty). Метод Study() должен быть переопределен для добавления информации о специальности при изучении предмета. \n",
    "2. Студент магистратуры (MasterStudent): Должен содержать дополнительные атрибуты, такие как Научный руководитель (ScientificAdvisor). Метод TakeExam() должен быть переопределен для добавления информации о научном руководителе при сдаче экзамена.\n",
    "3. Аспирант (PhDStudent) (если требуется третий класс): Должен содержать дополнительные атрибуты, такие как Тема диссертации (DissertationTopic). Метод Study() должен быть переопределен для добавления информации о теме диссертации при изучении предмета. \n",
    "\n",
    "#### Дополнительное задание\n",
    "Добавьте к сущестующим классам конструктора классов с использованием гетторов и сетторов и реализуйте взаимодействие объектов между собой"
   ]
  },
  {
   "cell_type": "markdown",
   "metadata": {},
   "source": [
    "<h2 style=\"color:DodgerBlue\">Реализация:</h2>\n",
    "\n",
    "----"
   ]
  },
  {
   "cell_type": "code",
   "execution_count": 1,
   "metadata": {
    "dotnet_interactive": {
     "language": "csharp"
    },
    "polyglot_notebook": {
     "kernelName": "csharp"
    }
   },
   "outputs": [
    {
     "name": "stdout",
     "output_type": "stream",
     "text": [
      "Имя: Велижанин Павел Ильич, Возраст: 19, Курс: 2.\n",
      "Студент Велижанин Павел Ильич обучается на курсе 2.\n",
      "Студент Велижанин Павел Ильич сдаёт экзамен.\n",
      "Имя: Иванов, Возраст: 20, Курс: 3.\n",
      "Иванов учится на 3 курсе по специальности Искуственный интеллект и программирование.\n",
      "Студент Иванов сдаёт экзамен.\n",
      "Имя: Сидоров, Возраст: 22, Курс: 1.\n",
      "Студент Сидоров обучается на курсе 1.\n",
      "Сидоров сдает экзамен. Научный руководитель: Спирин Игорь Сергеевич.\n",
      "Имя: Смирнов, Возраст: 24, Курс: 1.\n",
      "Смирнов работает над диссертацией на тему \"Создание чат-бота с искуственным интеллектом для платформы Educon\".\n",
      "Студент Смирнов сдаёт экзамен.\n"
     ]
    }
   ],
   "source": [
    "class Student\n",
    "{   \n",
    "    private string name;\n",
    "    private int age;\n",
    "    private int course;\n",
    "\n",
    "    public string Name \n",
    "    {\n",
    "        get { return name; }\n",
    "        set { name = value; }\n",
    "    }\n",
    "\n",
    "    public int Age \n",
    "    {\n",
    "        get { return age; }\n",
    "        set\n",
    "        {\n",
    "            if (value >= 0)\n",
    "                age = value;\n",
    "            else\n",
    "                throw new ArgumentOutOfRangeException(\"Возраст не может быть отрицательным.\");\n",
    "        }\n",
    "    }\n",
    "    public int Course\n",
    "    {\n",
    "        get { return course; }\n",
    "        set\n",
    "        {\n",
    "            if (value >= 1 && value <= 6)\n",
    "                course = value;\n",
    "            else\n",
    "                throw new ArgumentOutOfRangeException(\"Номер курса должен быть от 1 до 6.\");\n",
    "        }\n",
    "    }\n",
    "\n",
    "    public Student(string name, int age, int course)\n",
    "    {\n",
    "        Name = name;\n",
    "        Age = age;\n",
    "        Course = course;\n",
    "    }\n",
    "\n",
    "    public virtual void GetInfo()\n",
    "    {\n",
    "        Console.WriteLine($\"Имя: {Name}, Возраст: {Age}, Курс: {Course}.\");\n",
    "    }\n",
    "\n",
    "    public virtual void Study()\n",
    "    {\n",
    "        Console.WriteLine($\"Студент {Name} обучается на курсе {Course}.\");\n",
    "    }\n",
    "\n",
    "    public virtual void TakeExam()\n",
    "    {\n",
    "        Console.WriteLine($\"Студент {Name} сдаёт экзамен.\");\n",
    "    }\n",
    "}\n",
    "\n",
    "Student student = new Student(\"Велижанин Павел Ильич\", 19, 2);\n",
    "student.GetInfo();\n",
    "student.Study();\n",
    "student.TakeExam();\n",
    "\n",
    "\n",
    "\n",
    "class BachelorStudent : Student\n",
    "{\n",
    "    public string Specialty { get; set; }\n",
    "    \n",
    "    public BachelorStudent(string name, int age, int course, string specialty) : base(name, age, course) \n",
    "    {\n",
    "        Specialty = specialty;\n",
    "    }\n",
    "\n",
    "        public override void Study()\n",
    "    {\n",
    "        Console.WriteLine($\"{Name} учится на {Course} курсе по специальности {Specialty}.\");\n",
    "    }\n",
    "}\n",
    "\n",
    "BachelorStudent bachelor = new BachelorStudent(\"Иванов\", 20, 3, \"Искуственный интеллект и программирование\");\n",
    "bachelor.GetInfo();\n",
    "bachelor.Study();\n",
    "bachelor.TakeExam();\n",
    "\n",
    "\n",
    "\n",
    "class MasterStudent : Student\n",
    "{\n",
    "    public string ScientificAdvisor { get; set; }\n",
    "\n",
    "    public MasterStudent(string name, int age, int course, string scientificAdvisor) : base(name, age, course)\n",
    "    {\n",
    "        ScientificAdvisor = scientificAdvisor;\n",
    "    }\n",
    "\n",
    "        public override void TakeExam()\n",
    "    {\n",
    "        Console.WriteLine($\"{Name} сдает экзамен. Научный руководитель: {ScientificAdvisor}.\");\n",
    "    }\n",
    " \n",
    "}\n",
    "\n",
    "MasterStudent master = new MasterStudent(\"Сидоров\", 22, 1, \"Спирин Игорь Сергеевич\");\n",
    "master.GetInfo();\n",
    "master.Study();\n",
    "master.TakeExam();\n",
    "\n",
    "\n",
    "\n",
    "class PhDStudent : Student\n",
    "{\n",
    "    public string DissertationTopic { get; set; }\n",
    "\n",
    "    public PhDStudent(string name, int age, int course, string dissertationTopic) : base(name, age, course)\n",
    "    {\n",
    "        DissertationTopic = dissertationTopic;\n",
    "    }\n",
    "\n",
    "        public override void Study()\n",
    "    {\n",
    "        Console.WriteLine($\"{Name} работает над диссертацией на тему \\\"{DissertationTopic}\\\".\");\n",
    "    }\n",
    "}\n",
    "\n",
    "PhDStudent PhDS = new PhDStudent(\"Смирнов\", 24, 1, \"Создание чат-бота с искуственным интеллектом для платформы Educon\");\n",
    "PhDS.GetInfo();\n",
    "PhDS.Study();\n",
    "PhDS.TakeExam();"
   ]
  }
 ],
 "metadata": {
  "kernelspec": {
   "display_name": ".NET (C#)",
   "language": "C#",
   "name": ".net-csharp"
  },
  "polyglot_notebook": {
   "kernelInfo": {
    "defaultKernelName": "csharp",
    "items": [
     {
      "aliases": [],
      "languageName": "csharp",
      "name": "csharp"
     }
    ]
   }
  }
 },
 "nbformat": 4,
 "nbformat_minor": 2
}
